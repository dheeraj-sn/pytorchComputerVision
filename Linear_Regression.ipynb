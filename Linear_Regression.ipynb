{
  "nbformat": 4,
  "nbformat_minor": 0,
  "metadata": {
    "colab": {
      "name": "Linear_Regression.ipynb",
      "provenance": []
    },
    "kernelspec": {
      "name": "python3",
      "display_name": "Python 3"
    }
  },
  "cells": [
    {
      "cell_type": "code",
      "metadata": {
        "id": "g90d_JwFi8I7",
        "colab_type": "code",
        "colab": {}
      },
      "source": [
        "import torch\n",
        "import torch.nn as nn\n",
        "import matplotlib.pyplot as plt\n",
        "import numpy as np"
      ],
      "execution_count": 0,
      "outputs": []
    },
    {
      "cell_type": "code",
      "metadata": {
        "id": "BkdXhIlXvKzM",
        "colab_type": "code",
        "outputId": "9e98b5a7-1ce2-4ff3-8c98-5ff0dff93bad",
        "colab": {
          "base_uri": "https://localhost:8080/",
          "height": 296
        }
      },
      "source": [
        "X = torch.randn(100, 1)*10\n",
        "y = X + 3*torch.randn(100, 1)\n",
        "plt.plot(X.numpy(), y.numpy(), 'o')\n",
        "plt.ylabel('y')\n",
        "plt.xlabel('x')"
      ],
      "execution_count": 2,
      "outputs": [
        {
          "output_type": "execute_result",
          "data": {
            "text/plain": [
              "Text(0.5, 0, 'x')"
            ]
          },
          "metadata": {
            "tags": []
          },
          "execution_count": 2
        },
        {
          "output_type": "display_data",
          "data": {
            "image/png": "[encoded data removed]",
            "text/plain": [
              "<Figure size 432x288 with 1 Axes>"
            ]
          },
          "metadata": {
            "tags": [],
            "needs_background": "light"
          }
        }
      ]
    },
    {
      "cell_type": "code",
      "metadata": {
        "id": "Voo3RX1IYz21",
        "colab_type": "code",
        "colab": {}
      },
      "source": [
        "class LR(nn.Module):\n",
        "  def __init__(self, input_size, output_size):\n",
        "    super().__init__()\n",
        "    self.linear = nn.Linear(input_size, output_size)\n",
        "  def forward(self, x):\n",
        "    pred = self.linear(x)\n",
        "    return pred"
      ],
      "execution_count": 0,
      "outputs": []
    },
    {
      "cell_type": "code",
      "metadata": {
        "id": "PeyVS6V_aBfy",
        "colab_type": "code",
        "outputId": "fcf6f060-c402-4341-85d2-e3d1ab09c88b",
        "colab": {
          "base_uri": "https://localhost:8080/",
          "height": 68
        }
      },
      "source": [
        "torch.manual_seed(1)\n",
        "model = LR(1, 1)\n",
        "print(model)"
      ],
      "execution_count": 4,
      "outputs": [
        {
          "output_type": "stream",
          "text": [
            "LR(\n",
            "  (linear): Linear(in_features=1, out_features=1, bias=True)\n",
            ")\n"
          ],
          "name": "stdout"
        }
      ]
    },
    {
      "cell_type": "code",
      "metadata": {
        "id": "e1HHLRTbaeZF",
        "colab_type": "code",
        "colab": {}
      },
      "source": [
        "[w, b] = model.parameters()\n",
        "def get_params():\n",
        "  return (w[0][0].item(), b[0].item())"
      ],
      "execution_count": 0,
      "outputs": []
    },
    {
      "cell_type": "code",
      "metadata": {
        "id": "x1bjDI3vxEmd",
        "colab_type": "code",
        "colab": {}
      },
      "source": [
        "def plot_fit(title):\n",
        "  plt.title = title\n",
        "  w1, b1 = get_params()\n",
        "  x1 = np.array([-30, 30])\n",
        "  y1 = w1*x1 + b1\n",
        "  plt.plot(x1, y1, 'r')\n",
        "  plt.scatter(X, y)\n",
        "  plt.show()"
      ],
      "execution_count": 0,
      "outputs": []
    },
    {
      "cell_type": "code",
      "metadata": {
        "id": "wYEJKbTEy2Ci",
        "colab_type": "code",
        "outputId": "70e7dfe6-7d78-49d7-9092-3b1ca56b7991",
        "colab": {
          "base_uri": "https://localhost:8080/",
          "height": 265
        }
      },
      "source": [
        "plot_fit('Initial Model')"
      ],
      "execution_count": 7,
      "outputs": [
        {
          "output_type": "display_data",
          "data": {
            "image/png": "[encoded data removed]",
            "text/plain": [
              "<Figure size 432x288 with 1 Axes>"
            ]
          },
          "metadata": {
            "tags": [],
            "needs_background": "light"
          }
        }
      ]
    },
    {
      "cell_type": "code",
      "metadata": {
        "id": "4Z9-HIA0y5S7",
        "colab_type": "code",
        "colab": {}
      },
      "source": [
        "criterion = nn.MSELoss()\n",
        "optimizer = torch.optim.SGD(model.parameters(), lr = 0.01)"
      ],
      "execution_count": 0,
      "outputs": []
    },
    {
      "cell_type": "code",
      "metadata": {
        "id": "wu4Qzn3PCeJ9",
        "colab_type": "code",
        "outputId": "a6c03d48-1a3d-4705-fe82-23c2094cfaac",
        "colab": {
          "base_uri": "https://localhost:8080/",
          "height": 1000
        }
      },
      "source": [
        "epochs = 100\n",
        "losses = []\n",
        "for i in range(epochs):\n",
        "  y_pred = model.forward(X)\n",
        "  loss = criterion(y_pred, y)\n",
        "  print(\"epoch:\", i, \"loss:\", loss.item())\n",
        "  \n",
        "  losses.append(loss)\n",
        "  optimizer.zero_grad()\n",
        "  loss.backward()\n",
        "  optimizer.step()"
      ],
      "execution_count": 9,
      "outputs": [
        {
          "output_type": "stream",
          "text": [
            "epoch: 0 loss: 34.23326110839844\n",
            "epoch: 1 loss: 24.39423370361328\n",
            "epoch: 2 loss: 18.133033752441406\n",
            "epoch: 3 loss: 14.145790100097656\n",
            "epoch: 4 loss: 11.603889465332031\n",
            "epoch: 5 loss: 9.980774879455566\n",
            "epoch: 6 loss: 8.941825866699219\n",
            "epoch: 7 loss: 8.274397850036621\n",
            "epoch: 8 loss: 7.843343734741211\n",
            "epoch: 9 loss: 7.562766075134277\n",
            "epoch: 10 loss: 7.378078460693359\n",
            "epoch: 11 loss: 7.254580020904541\n",
            "epoch: 12 loss: 7.170206069946289\n",
            "epoch: 13 loss: 7.110929489135742\n",
            "epoch: 14 loss: 7.067823886871338\n",
            "epoch: 15 loss: 7.035210609436035\n",
            "epoch: 16 loss: 7.0094709396362305\n",
            "epoch: 17 loss: 6.988296985626221\n",
            "epoch: 18 loss: 6.970219135284424\n",
            "epoch: 19 loss: 6.954288959503174\n",
            "epoch: 20 loss: 6.939898490905762\n",
            "epoch: 21 loss: 6.926657676696777\n",
            "epoch: 22 loss: 6.914308071136475\n",
            "epoch: 23 loss: 6.902679920196533\n",
            "epoch: 24 loss: 6.891663074493408\n",
            "epoch: 25 loss: 6.881175518035889\n",
            "epoch: 26 loss: 6.871163368225098\n",
            "epoch: 27 loss: 6.861586093902588\n",
            "epoch: 28 loss: 6.852411270141602\n",
            "epoch: 29 loss: 6.843616962432861\n",
            "epoch: 30 loss: 6.835178852081299\n",
            "epoch: 31 loss: 6.827081680297852\n",
            "epoch: 32 loss: 6.819309234619141\n",
            "epoch: 33 loss: 6.811848163604736\n",
            "epoch: 34 loss: 6.804682731628418\n",
            "epoch: 35 loss: 6.797801971435547\n",
            "epoch: 36 loss: 6.791194915771484\n",
            "epoch: 37 loss: 6.784849643707275\n",
            "epoch: 38 loss: 6.778756618499756\n",
            "epoch: 39 loss: 6.7729034423828125\n",
            "epoch: 40 loss: 6.767282485961914\n",
            "epoch: 41 loss: 6.761885166168213\n",
            "epoch: 42 loss: 6.7567009925842285\n",
            "epoch: 43 loss: 6.751724720001221\n",
            "epoch: 44 loss: 6.746942043304443\n",
            "epoch: 45 loss: 6.742349624633789\n",
            "epoch: 46 loss: 6.737939357757568\n",
            "epoch: 47 loss: 6.733705520629883\n",
            "epoch: 48 loss: 6.7296366691589355\n",
            "epoch: 49 loss: 6.725729465484619\n",
            "epoch: 50 loss: 6.721977710723877\n",
            "epoch: 51 loss: 6.718374252319336\n",
            "epoch: 52 loss: 6.714913845062256\n",
            "epoch: 53 loss: 6.711589813232422\n",
            "epoch: 54 loss: 6.7083964347839355\n",
            "epoch: 55 loss: 6.705331325531006\n",
            "epoch: 56 loss: 6.702387809753418\n",
            "epoch: 57 loss: 6.699560642242432\n",
            "epoch: 58 loss: 6.696844577789307\n",
            "epoch: 59 loss: 6.694235801696777\n",
            "epoch: 60 loss: 6.691729545593262\n",
            "epoch: 61 loss: 6.689325332641602\n",
            "epoch: 62 loss: 6.687014102935791\n",
            "epoch: 63 loss: 6.684795379638672\n",
            "epoch: 64 loss: 6.682664394378662\n",
            "epoch: 65 loss: 6.6806182861328125\n",
            "epoch: 66 loss: 6.678651809692383\n",
            "epoch: 67 loss: 6.676764011383057\n",
            "epoch: 68 loss: 6.67495059967041\n",
            "epoch: 69 loss: 6.673210620880127\n",
            "epoch: 70 loss: 6.671537399291992\n",
            "epoch: 71 loss: 6.6699323654174805\n",
            "epoch: 72 loss: 6.668389320373535\n",
            "epoch: 73 loss: 6.666907787322998\n",
            "epoch: 74 loss: 6.665485382080078\n",
            "epoch: 75 loss: 6.664117813110352\n",
            "epoch: 76 loss: 6.662806510925293\n",
            "epoch: 77 loss: 6.661545276641846\n",
            "epoch: 78 loss: 6.660335063934326\n",
            "epoch: 79 loss: 6.659172534942627\n",
            "epoch: 80 loss: 6.658056259155273\n",
            "epoch: 81 loss: 6.656984806060791\n",
            "epoch: 82 loss: 6.6559553146362305\n",
            "epoch: 83 loss: 6.654966354370117\n",
            "epoch: 84 loss: 6.65401554107666\n",
            "epoch: 85 loss: 6.653102874755859\n",
            "epoch: 86 loss: 6.652227878570557\n",
            "epoch: 87 loss: 6.651386260986328\n",
            "epoch: 88 loss: 6.650578022003174\n",
            "epoch: 89 loss: 6.649801254272461\n",
            "epoch: 90 loss: 6.649056911468506\n",
            "epoch: 91 loss: 6.648340225219727\n",
            "epoch: 92 loss: 6.6476521492004395\n",
            "epoch: 93 loss: 6.646993637084961\n",
            "epoch: 94 loss: 6.646358489990234\n",
            "epoch: 95 loss: 6.645749568939209\n",
            "epoch: 96 loss: 6.6451640129089355\n",
            "epoch: 97 loss: 6.644601821899414\n",
            "epoch: 98 loss: 6.6440629959106445\n",
            "epoch: 99 loss: 6.643545627593994\n"
          ],
          "name": "stdout"
        }
      ]
    },
    {
      "cell_type": "code",
      "metadata": {
        "id": "j3D-8o6MDXO9",
        "colab_type": "code",
        "outputId": "f88b2bc7-ddea-48e8-d625-75953ba07f43",
        "colab": {
          "base_uri": "https://localhost:8080/",
          "height": 296
        }
      },
      "source": [
        "plt.plot(range(epochs), losses)\n",
        "plt.ylabel('Loss')\n",
        "plt.xlabel('epoch')"
      ],
      "execution_count": 10,
      "outputs": [
        {
          "output_type": "execute_result",
          "data": {
            "text/plain": [
              "Text(0.5, 0, 'epoch')"
            ]
          },
          "metadata": {
            "tags": []
          },
          "execution_count": 10
        },
        {
          "output_type": "display_data",
          "data": {
            "image/png": "[encoded data removed]",
            "text/plain": [
              "<Figure size 432x288 with 1 Axes>"
            ]
          },
          "metadata": {
            "tags": [],
            "needs_background": "light"
          }
        }
      ]
    },
    {
      "cell_type": "code",
      "metadata": {
        "id": "VwsPWhWJFONF",
        "colab_type": "code",
        "outputId": "9b00667c-7924-4fb7-8f62-0d061ca65d4f",
        "colab": {
          "base_uri": "https://localhost:8080/",
          "height": 265
        }
      },
      "source": [
        "plot_fit(\"Trained Model\")"
      ],
      "execution_count": 11,
      "outputs": [
        {
          "output_type": "display_data",
          "data": {
            "image/png": "[encoded data removed]",
            "text/plain": [
              "<Figure size 432x288 with 1 Axes>"
            ]
          },
          "metadata": {
            "tags": [],
            "needs_background": "light"
          }
        }
      ]
    },
    {
      "cell_type": "code",
      "metadata": {
        "id": "Eyc77EKUFYgZ",
        "colab_type": "code",
        "colab": {}
      },
      "source": [
        ""
      ],
      "execution_count": 0,
      "outputs": []
    }
  ]
}